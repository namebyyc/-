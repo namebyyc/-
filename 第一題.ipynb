{
 "cells": [
  {
   "cell_type": "code",
   "execution_count": 160,
   "metadata": {},
   "outputs": [],
   "source": [
    "from sklearn import tree     #sklearn裡面的樹模型\n",
    "from sklearn import datasets #sklearn裡面的資料集\n",
    "import pydotplus             #用來理解這棵樹是怎麼做分類(決策樹節點輸出)\n",
    "from sklearn.model_selection import train_test_split    #區分訓練集資料與測試及資料的功能\n",
    "from IPython.display import Image"
   ]
  },
  {
   "cell_type": "code",
   "execution_count": 38,
   "metadata": {},
   "outputs": [
    {
     "name": "stdout",
     "output_type": "stream",
     "text": [
      "     OUTLOOK  TEMP HUMIDITY  WINDY PLAY\n",
      "0      Rainy   Hot     High  FALSE   No\n",
      "1      Rainy   Hot     High   TRUE   No\n",
      "2   Overcast   Hot     High  FALSE  Yes\n",
      "3      Sunny  Mild     High  FALSE  Yes\n",
      "4      Sunny  Cool   Normal  FALSE  Yes\n",
      "5      Sunny  Cool   Normal   TRUE   No\n",
      "6   Overcast  Cool   Normal   TRUE  Yes\n",
      "7      Rainy  Mild     High  FALSE   No\n",
      "8      Rainy  Cool   Normal  FALSE  Yes\n",
      "9      Sunny  Mild   Normal  FALSE  Yes\n",
      "10     Rainy  Mild   Normal   TRUE  Yes\n",
      "11  Overcast  Mild     High   TRUE  Yes\n",
      "12  Overcast   Hot   Normal  FALSE  Yes\n",
      "13     Sunny  Mild     High   TRUE   No\n",
      "Sunny       5\n",
      "Rainy       5\n",
      "Overcast    4\n",
      "Name: OUTLOOK, dtype: int64\n",
      "Mild    6\n",
      "Cool    4\n",
      "Hot     4\n",
      "Name: TEMP, dtype: int64\n",
      "High      7\n",
      "Normal    7\n",
      "Name: HUMIDITY, dtype: int64\n",
      "FALSE    8\n",
      "TRUE     6\n",
      "Name: WINDY, dtype: int64\n",
      "Yes    9\n",
      "No     5\n",
      "Name: PLAY, dtype: int64\n"
     ]
    }
   ],
   "source": [
    "import pandas as pd\n",
    "from pandas.core.frame import DataFrame\n",
    "\n",
    "#輸入資料\n",
    "golf_df = pd.DataFrame()\n",
    "golf_df['OUTLOOK']=['Rainy','Rainy','Overcast','Sunny','Sunny','Sunny','Overcast','Rainy','Rainy','Sunny','Rainy','Overcast','Overcast','Sunny']\n",
    "golf_df['TEMP']=['Hot','Hot','Hot','Mild','Cool','Cool','Cool','Mild','Cool','Mild','Mild','Mild','Hot','Mild']\n",
    "golf_df['HUMIDITY']=['High','High','High','High','Normal','Normal','Normal','High','Normal','Normal','Normal','High','Normal','High']\n",
    "golf_df['WINDY']=['FALSE','TRUE','FALSE','FALSE','FALSE','TRUE','TRUE','FALSE','FALSE','FALSE','TRUE','TRUE','FALSE','TRUE']\n",
    "golf_df['PLAY']=['No','No','Yes','Yes','Yes','No','Yes','No','Yes','Yes','Yes','Yes','Yes','No']\n",
    "print(golf_df)\n",
    "\n",
    "#計算每一行出現值的次數\n",
    "o=golf_df['OUTLOOK'].value_counts()\n",
    "print(o)\n",
    "t=golf_df['TEMP'].value_counts()\n",
    "print(t)\n",
    "h=golf_df['HUMIDITY'].value_counts()\n",
    "print(h)\n",
    "w=golf_df['WINDY'].value_counts()\n",
    "print(w)\n",
    "p=golf_df['PLAY'].value_counts()\n",
    "print(p)"
   ]
  },
  {
   "cell_type": "code",
   "execution_count": 40,
   "metadata": {
    "scrolled": true
   },
   "outputs": [
    {
     "name": "stdout",
     "output_type": "stream",
     "text": [
      "0.9402859586706311\n"
     ]
    }
   ],
   "source": [
    "import numpy as np\n",
    "def entropy(i, j):\n",
    "    if i == 0 or j == 0:   #i=yes,j=no\n",
    "        return 0\n",
    "    p = i / (i + j)\n",
    "    return - p*np.log2(p) - (1 - p)*np.log2((1 - p))\n",
    "\n",
    "ori_entropy = entropy(9, 5)\n",
    "print(ori_entropy)"
   ]
  },
  {
   "cell_type": "code",
   "execution_count": 41,
   "metadata": {},
   "outputs": [
    {
     "name": "stdout",
     "output_type": "stream",
     "text": [
      "OUTLOOK   PLAY\n",
      "Overcast  Yes     4\n",
      "Rainy     No      2\n",
      "          Yes     3\n",
      "Sunny     No      3\n",
      "          Yes     2\n",
      "dtype: int64\n"
     ]
    }
   ],
   "source": [
    "outgroup= data.groupby(['OUTLOOK', 'PLAY']).size() \n",
    "print(outgroup)"
   ]
  },
  {
   "cell_type": "code",
   "execution_count": 42,
   "metadata": {},
   "outputs": [
    {
     "name": "stdout",
     "output_type": "stream",
     "text": [
      "OUTLOOK_entropy: 0.6935361388961918\n",
      "OUTLOOK_gain: 0.24674981977443933\n"
     ]
    }
   ],
   "source": [
    "#計算outlook的entropy\n",
    "OUTLOOK_entropy=5/14*entropy(3,2)+5/14*entropy(2,3)+4/14*entropy(4,0)#rainy5,sunny5,overcast4\n",
    "print(f'OUTLOOK_entropy: {OUTLOOK_entropy}')\n",
    "OUTLOOK_gain = ori_entropy - OUTLOOK_entropy\n",
    "print(f'OUTLOOK_gain: {OUTLOOK_gain}')"
   ]
  },
  {
   "cell_type": "code",
   "execution_count": 43,
   "metadata": {},
   "outputs": [
    {
     "name": "stdout",
     "output_type": "stream",
     "text": [
      "TEMP  PLAY\n",
      "Cool  No      1\n",
      "      Yes     3\n",
      "Hot   No      2\n",
      "      Yes     2\n",
      "Mild  No      2\n",
      "      Yes     4\n",
      "dtype: int64\n"
     ]
    }
   ],
   "source": [
    "outgroup= data.groupby(['TEMP', 'PLAY']).size() \n",
    "print(outgroup)"
   ]
  },
  {
   "cell_type": "code",
   "execution_count": 44,
   "metadata": {},
   "outputs": [
    {
     "name": "stdout",
     "output_type": "stream",
     "text": [
      "temp_entropy: 0.9110633930116763\n",
      "temp_gain: 0.02922256565895487\n"
     ]
    }
   ],
   "source": [
    "#計算temp的entropy\n",
    "temp_entropy=6/14*entropy(4,2)+4/14*entropy(3,1)+4/14*entropy(2,2)#mild6,cool4,hot4\n",
    "print(f'temp_entropy: {temp_entropy}')\n",
    "temp_gain = ori_entropy - temp_entropy\n",
    "print(f'temp_gain: {temp_gain}')"
   ]
  },
  {
   "cell_type": "code",
   "execution_count": 45,
   "metadata": {},
   "outputs": [
    {
     "name": "stdout",
     "output_type": "stream",
     "text": [
      "HUMIDITY  PLAY\n",
      "High      No      4\n",
      "          Yes     3\n",
      "Normal    No      1\n",
      "          Yes     6\n",
      "dtype: int64\n"
     ]
    }
   ],
   "source": [
    "outgroup= data.groupby(['HUMIDITY', 'PLAY']).size() \n",
    "print(outgroup)"
   ]
  },
  {
   "cell_type": "code",
   "execution_count": 46,
   "metadata": {},
   "outputs": [
    {
     "name": "stdout",
     "output_type": "stream",
     "text": [
      "HUMIDITY_entropy: 0.7884504573082896\n",
      "HUMIDITY_gain: 0.15183550136234159\n"
     ]
    }
   ],
   "source": [
    "#計算HUMIDITY的entropy\n",
    "HUMIDITY_entropy=7/14*entropy(6,1)+7/14*entropy(3,4)#Normal7,High7\n",
    "print(f'HUMIDITY_entropy: {HUMIDITY_entropy}')\n",
    "HUMIDITY_gain = ori_entropy - HUMIDITY_entropy\n",
    "print(f'HUMIDITY_gain: {HUMIDITY_gain}')"
   ]
  },
  {
   "cell_type": "code",
   "execution_count": 47,
   "metadata": {},
   "outputs": [
    {
     "name": "stdout",
     "output_type": "stream",
     "text": [
      "WINDY  PLAY\n",
      "False  No      2\n",
      "       Yes     6\n",
      "True   No      3\n",
      "       Yes     3\n",
      "dtype: int64\n"
     ]
    }
   ],
   "source": [
    "outgroup= data.groupby(['WINDY', 'PLAY']).size() \n",
    "print(outgroup)"
   ]
  },
  {
   "cell_type": "code",
   "execution_count": 48,
   "metadata": {},
   "outputs": [
    {
     "name": "stdout",
     "output_type": "stream",
     "text": [
      "WINDY_entropy: 0.8921589282623617\n",
      "WINDY_gain: 0.04812703040826949\n"
     ]
    }
   ],
   "source": [
    "#計算WINDY的entropy\n",
    "WINDY_entropy=8/14*entropy(6,2)+6/14*entropy(3,3)#False8,True6\n",
    "print(f'WINDY_entropy: {WINDY_entropy}')\n",
    "WINDY_gain = ori_entropy - WINDY_entropy\n",
    "print(f'WINDY_gain: {WINDY_gain}')"
   ]
  },
  {
   "cell_type": "code",
   "execution_count": 106,
   "metadata": {},
   "outputs": [
    {
     "name": "stdout",
     "output_type": "stream",
     "text": [
      "                   gain\n",
      "OUTLOOK_gain   0.246750\n",
      "temp_gain      0.029223\n",
      "HUMIDITY_gain  0.151836\n",
      "WINDY_gain     0.048127\n",
      "最大值是 gain    OUTLOOK_gain\n",
      "dtype: object\n"
     ]
    }
   ],
   "source": [
    "df=pd.DataFrame({'gain':[OUTLOOK_gain,temp_gain,HUMIDITY_gain,WINDY_gain]},index=['OUTLOOK_gain','temp_gain','HUMIDITY_gain','WINDY_gain'])\n",
    "print(df)\n",
    "print(\"最大值是\",df.idxmax())"
   ]
  },
  {
   "cell_type": "code",
   "execution_count": 98,
   "metadata": {},
   "outputs": [
    {
     "name": "stdout",
     "output_type": "stream",
     "text": [
      "{'entropy_rainy': 0.9709505944546686, 'entropy_overcast': 0, 'entropy_sunny': 0.9709505944546686}\n"
     ]
    }
   ],
   "source": [
    "#step 2\n",
    "#繼續計算子集\n",
    "sec_orientropy={'entropy_rainy':entropy(3,2),'entropy_overcast':entropy(4,0),'entropy_sunny':entropy(2,3)}\n",
    "print(sec_orientropy)"
   ]
  },
  {
   "cell_type": "code",
   "execution_count": 53,
   "metadata": {},
   "outputs": [
    {
     "name": "stdout",
     "output_type": "stream",
     "text": [
      "OUTLOOK   TEMP  PLAY\n",
      "Overcast  Cool  Yes     1\n",
      "          Hot   Yes     2\n",
      "          Mild  Yes     1\n",
      "Rainy     Cool  Yes     1\n",
      "          Hot   No      2\n",
      "          Mild  No      1\n",
      "                Yes     1\n",
      "Sunny     Cool  No      1\n",
      "                Yes     1\n",
      "          Mild  No      1\n",
      "                Yes     2\n",
      "dtype: int64\n",
      "OUTLOOK   HUMIDITY  PLAY\n",
      "Overcast  High      Yes     2\n",
      "          Normal    Yes     2\n",
      "Rainy     High      No      3\n",
      "          Normal    Yes     2\n",
      "Sunny     High      No      1\n",
      "                    Yes     1\n",
      "          Normal    No      1\n",
      "                    Yes     2\n",
      "dtype: int64\n",
      "OUTLOOK   WINDY  PLAY\n",
      "Overcast  FALSE  Yes     2\n",
      "          TRUE   Yes     2\n",
      "Rainy     FALSE  No      2\n",
      "                 Yes     1\n",
      "          TRUE   No      1\n",
      "                 Yes     1\n",
      "Sunny     FALSE  Yes     3\n",
      "          TRUE   No      2\n",
      "dtype: int64\n"
     ]
    }
   ],
   "source": [
    "outgroup= golf_df.groupby(['OUTLOOK','TEMP','PLAY']).size() \n",
    "print(outgroup)\n",
    "\n",
    "outgroup_two=golf_df.groupby(['OUTLOOK','HUMIDITY','PLAY']).size() \n",
    "print(outgroup_two)\n",
    "\n",
    "\n",
    "outgroup_thr=golf_df.groupby(['OUTLOOK','WINDY','PLAY']).size() \n",
    "print(outgroup_thr)"
   ]
  },
  {
   "cell_type": "code",
   "execution_count": 83,
   "metadata": {},
   "outputs": [
    {
     "name": "stdout",
     "output_type": "stream",
     "text": [
      "                              0         0\n",
      "sunnytemp_entropy      0.950978       NaN\n",
      "sunnyhumidity_entropy  0.950978       NaN\n",
      "sunnywindy_entropy     0.000000       NaN\n",
      "sunnytemp_gain              NaN  0.019973\n",
      "sunnyhumidity_gain          NaN  0.019973\n",
      "sunnywindy_gain             NaN  0.970951\n",
      "最大值是: sunnywindy_gain\n"
     ]
    }
   ],
   "source": [
    "#計算SUNNY的entropy\n",
    "sunnytemp_entropy=2/5*entropy(1,1)+3/5*entropy(2,1)\n",
    "sunnyhumidity_entropy=2/5*entropy(1,1)+3/5*entropy(2,1)\n",
    "sunnywindy_entropy=3/5*entropy(3,0)+2/5*entropy(0,2)\n",
    "\n",
    "\n",
    "sunnytemp_gain = sec_orientropy['entropy_sunny'] - sunnytemp_entropy\n",
    "sunnyhumidity_gain = sec_orientropy['entropy_sunny'] - sunnyhumidity_entropy\n",
    "sunnywindy_gain =sec_orientropy['entropy_sunny'] - sunnywindy_entropy\n",
    "\n",
    "dfsunny_entropy={'sunnytemp_entropy':sunnytemp_entropy,'sunnyhumidity_entropy':sunnyhumidity_entropy,'sunnywindy_entropy':sunnywindy_entropy}\n",
    "dfsunny_gain={'sunnytemp_gain':sunnytemp_gain,'sunnyhumidity_gain':sunnyhumidity_gain,'sunnywindy_gain':sunnywindy_gain}\n",
    "\n",
    "\n",
    "sunnydata=pd.concat([pd.DataFrame.from_dict(dfsunny_entropy, orient='index'),pd.DataFrame.from_dict(dfsunny_gain, orient='index')],axis=1)\n",
    "print(sunnydata)\n",
    "print(\"最大值是:\",max(dfsunny_gain, key=dfsunny_gain.get))"
   ]
  },
  {
   "cell_type": "code",
   "execution_count": 84,
   "metadata": {},
   "outputs": [
    {
     "name": "stdout",
     "output_type": "stream",
     "text": [
      "                              0         0\n",
      "rainytemp_entropy      0.200000       NaN\n",
      "rainyhumidity_entropy  0.000000       NaN\n",
      "rainywindy_entropy     0.950978       NaN\n",
      "rainytemp_gain              NaN  0.770951\n",
      "rainyhumidity_gain          NaN  0.970951\n",
      "rainywindy_gain             NaN  0.019973\n",
      "最大值是: rainyhumidity_gain\n"
     ]
    }
   ],
   "source": [
    "#計算rainy的entropy\n",
    "rainytemp_entropy=1/5*entropy(1,0)+2/5*entropy(0,2)+1/5*entropy(1,1)\n",
    "rainyhumidity_entropy=3/5*entropy(0,3)+2/5*entropy(2,0)\n",
    "rainywindy_entropy=3/5*entropy(1,2)+2/5*entropy(1,1)\n",
    "\n",
    "rainytemp_gain = sec_orientropy['entropy_rainy'] - rainytemp_entropy\n",
    "rainyhumidity_gain = sec_orientropy['entropy_rainy'] - rainyhumidity_entropy\n",
    "rainywindy_gain =sec_orientropy['entropy_rainy'] - rainywindy_entropy\n",
    "\n",
    "dfrainy_entropy={'rainytemp_entropy':rainytemp_entropy,'rainyhumidity_entropy':rainyhumidity_entropy,'rainywindy_entropy':rainywindy_entropy}\n",
    "dfrainy_gain={'rainytemp_gain':rainytemp_gain,'rainyhumidity_gain':rainyhumidity_gain,'rainywindy_gain':rainywindy_gain}\n",
    "\n",
    "\n",
    "rainydata=pd.concat([pd.DataFrame.from_dict(dfrainy_entropy, orient='index'),pd.DataFrame.from_dict(dfrainy_gain, orient='index')],axis=1)\n",
    "print(rainydata)\n",
    "print(\"最大值是:\",max(dfrainy_gain, key=dfrainy_gain.get))"
   ]
  },
  {
   "cell_type": "code",
   "execution_count": 87,
   "metadata": {},
   "outputs": [
    {
     "name": "stdout",
     "output_type": "stream",
     "text": [
      "{'sunnywindy_entropy': 0.0, 'rainyhumidity_entropy': 0.0}\n"
     ]
    }
   ],
   "source": [
    "#step3\n",
    "dfthree={'sunnywindy_entropy':sunnywindy_entropy,'rainyhumidity_entropy':rainyhumidity_entropy}\n",
    "print(dfthree)\n",
    "if "
   ]
  },
  {
   "cell_type": "code",
   "execution_count": 131,
   "metadata": {},
   "outputs": [
    {
     "data": {
      "text/html": [
       "<div>\n",
       "<style scoped>\n",
       "    .dataframe tbody tr th:only-of-type {\n",
       "        vertical-align: middle;\n",
       "    }\n",
       "\n",
       "    .dataframe tbody tr th {\n",
       "        vertical-align: top;\n",
       "    }\n",
       "\n",
       "    .dataframe thead th {\n",
       "        text-align: right;\n",
       "    }\n",
       "</style>\n",
       "<table border=\"1\" class=\"dataframe\">\n",
       "  <thead>\n",
       "    <tr style=\"text-align: right;\">\n",
       "      <th></th>\n",
       "      <th>第一層</th>\n",
       "      <th>第二層</th>\n",
       "      <th>第三層</th>\n",
       "      <th>第四層</th>\n",
       "      <th>第五層</th>\n",
       "    </tr>\n",
       "  </thead>\n",
       "  <tbody>\n",
       "    <tr>\n",
       "      <th>0</th>\n",
       "      <td>outlook</td>\n",
       "      <td>sunny</td>\n",
       "      <td>windy</td>\n",
       "      <td>flase</td>\n",
       "      <td>yes</td>\n",
       "    </tr>\n",
       "    <tr>\n",
       "      <th>1</th>\n",
       "      <td></td>\n",
       "      <td></td>\n",
       "      <td></td>\n",
       "      <td>true</td>\n",
       "      <td>no</td>\n",
       "    </tr>\n",
       "    <tr>\n",
       "      <th>2</th>\n",
       "      <td></td>\n",
       "      <td>overcast</td>\n",
       "      <td>YES</td>\n",
       "      <td></td>\n",
       "      <td></td>\n",
       "    </tr>\n",
       "    <tr>\n",
       "      <th>3</th>\n",
       "      <td></td>\n",
       "      <td>rainy</td>\n",
       "      <td>humidity</td>\n",
       "      <td>high</td>\n",
       "      <td>no</td>\n",
       "    </tr>\n",
       "    <tr>\n",
       "      <th>4</th>\n",
       "      <td></td>\n",
       "      <td></td>\n",
       "      <td></td>\n",
       "      <td>normal</td>\n",
       "      <td>yes</td>\n",
       "    </tr>\n",
       "  </tbody>\n",
       "</table>\n",
       "</div>"
      ],
      "text/plain": [
       "       第一層       第二層       第三層     第四層  第五層\n",
       "0  outlook     sunny     windy   flase  yes\n",
       "1                                 true   no\n",
       "2           overcast       YES             \n",
       "3              rainy  humidity    high   no\n",
       "4                               normal  yes"
      ]
     },
     "execution_count": 131,
     "metadata": {},
     "output_type": "execute_result"
    }
   ],
   "source": [
    "#建立決策樹\n",
    "buildtree=pd.DataFrame({'第一層':['outlook','','','',''],'第二層':['sunny','','overcast','rainy',''],\n",
    "                       '第三層':['windy','','YES','humidity','']\n",
    "                        ,'第四層':['flase','true','','high','normal']\n",
    "                        ,'第五層':['yes','no','','no','yes']})\n",
    "buildtree"
   ]
  },
  {
   "cell_type": "code",
   "execution_count": 119,
   "metadata": {},
   "outputs": [],
   "source": []
  },
  {
   "cell_type": "code",
   "execution_count": null,
   "metadata": {},
   "outputs": [],
   "source": []
  }
 ],
 "metadata": {
  "kernelspec": {
   "display_name": "Python 3",
   "language": "python",
   "name": "python3"
  },
  "language_info": {
   "codemirror_mode": {
    "name": "ipython",
    "version": 3
   },
   "file_extension": ".py",
   "mimetype": "text/x-python",
   "name": "python",
   "nbconvert_exporter": "python",
   "pygments_lexer": "ipython3",
   "version": "3.8.5"
  }
 },
 "nbformat": 4,
 "nbformat_minor": 4
}
